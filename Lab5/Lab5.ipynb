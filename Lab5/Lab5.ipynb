{
 "cells": [
  {
   "cell_type": "code",
   "id": "initial_id",
   "metadata": {
    "collapsed": true,
    "ExecuteTime": {
     "end_time": "2025-10-30T18:06:37.794398Z",
     "start_time": "2025-10-30T18:06:36.123935Z"
    }
   },
   "source": "!pip install wikipedia-api\n",
   "outputs": [
    {
     "name": "stdout",
     "output_type": "stream",
     "text": [
      "Requirement already satisfied: wikipedia-api in c:\\users\\alexandru\\desktop\\dl4nlp\\.venv\\lib\\site-packages (0.8.1)\n",
      "Requirement already satisfied: requests in c:\\users\\alexandru\\desktop\\dl4nlp\\.venv\\lib\\site-packages (from wikipedia-api) (2.32.5)\n",
      "Requirement already satisfied: charset_normalizer<4,>=2 in c:\\users\\alexandru\\desktop\\dl4nlp\\.venv\\lib\\site-packages (from requests->wikipedia-api) (3.4.4)\n",
      "Requirement already satisfied: idna<4,>=2.5 in c:\\users\\alexandru\\desktop\\dl4nlp\\.venv\\lib\\site-packages (from requests->wikipedia-api) (3.11)\n",
      "Requirement already satisfied: urllib3<3,>=1.21.1 in c:\\users\\alexandru\\desktop\\dl4nlp\\.venv\\lib\\site-packages (from requests->wikipedia-api) (2.5.0)\n",
      "Requirement already satisfied: certifi>=2017.4.17 in c:\\users\\alexandru\\desktop\\dl4nlp\\.venv\\lib\\site-packages (from requests->wikipedia-api) (2025.10.5)\n"
     ]
    },
    {
     "name": "stderr",
     "output_type": "stream",
     "text": [
      "\n",
      "[notice] A new release of pip is available: 23.2.1 -> 25.3\n",
      "[notice] To update, run: python.exe -m pip install --upgrade pip\n"
     ]
    }
   ],
   "execution_count": 1
  },
  {
   "metadata": {
    "ExecuteTime": {
     "end_time": "2025-10-30T18:23:09.871282Z",
     "start_time": "2025-10-30T18:23:09.868499Z"
    }
   },
   "cell_type": "code",
   "source": [
    "import os\n",
    "import re\n",
    "import string\n",
    "import pickle\n",
    "import wikipediaapi\n",
    "import nltk\n",
    "from nltk.corpus import stopwords\n",
    "from nltk.stem import WordNetLemmatizer\n",
    "from sklearn.feature_extraction.text import CountVectorizer, TfidfVectorizer\n",
    "from sklearn.decomposition import TruncatedSVD, NMF, LatentDirichletAllocation\n",
    "from gensim import corpora\n",
    "from gensim.models import LdaModel, CoherenceModel\n",
    "import pyLDAvis\n",
    "import pyLDAvis.gensim\n",
    "import numpy as np\n",
    "import pandas as pd\n"
   ],
   "id": "a811c2b4727695d3",
   "outputs": [],
   "execution_count": 12
  },
  {
   "metadata": {
    "ExecuteTime": {
     "end_time": "2025-10-30T18:06:42.083630Z",
     "start_time": "2025-10-30T18:06:41.831489Z"
    }
   },
   "cell_type": "code",
   "source": [
    "nltk.download('stopwords')\n",
    "nltk.download('punkt')\n",
    "nltk.download('punkt_tab')\n",
    "nltk.download('wordnet')\n"
   ],
   "id": "73be6689a6008f5c",
   "outputs": [
    {
     "name": "stderr",
     "output_type": "stream",
     "text": [
      "[nltk_data] Downloading package stopwords to\n",
      "[nltk_data]     C:\\Users\\Alexandru\\AppData\\Roaming\\nltk_data...\n",
      "[nltk_data]   Package stopwords is already up-to-date!\n",
      "[nltk_data] Downloading package punkt to\n",
      "[nltk_data]     C:\\Users\\Alexandru\\AppData\\Roaming\\nltk_data...\n",
      "[nltk_data]   Package punkt is already up-to-date!\n",
      "[nltk_data] Downloading package punkt_tab to\n",
      "[nltk_data]     C:\\Users\\Alexandru\\AppData\\Roaming\\nltk_data...\n",
      "[nltk_data]   Package punkt_tab is already up-to-date!\n",
      "[nltk_data] Downloading package wordnet to\n",
      "[nltk_data]     C:\\Users\\Alexandru\\AppData\\Roaming\\nltk_data...\n",
      "[nltk_data]   Package wordnet is already up-to-date!\n"
     ]
    },
    {
     "data": {
      "text/plain": [
       "True"
      ]
     },
     "execution_count": 3,
     "metadata": {},
     "output_type": "execute_result"
    }
   ],
   "execution_count": 3
  },
  {
   "metadata": {
    "ExecuteTime": {
     "end_time": "2025-10-30T18:23:26.392962Z",
     "start_time": "2025-10-30T18:23:14.015666Z"
    }
   },
   "cell_type": "code",
   "source": [
    "wiki_api = wikipediaapi.Wikipedia(language='en', user_agent='NLPHomeworkBot/1.0 (alexandru@example.com)')\n",
    "\n",
    "topic_articles = {\n",
    "    \"MachineLearning\": [\"Machine learning\", \"Deep learning\", \"Neural network\", \"Supervised learning\", \"Unsupervised learning\"],\n",
    "    \"Astronomy\": [\"Star\", \"Galaxy\", \"Black hole\", \"Solar System\", \"Exoplanet\"],\n",
    "    \"History\": [\"World War II\", \"Roman Empire\", \"Industrial Revolution\", \"Ancient Greece\", \"French Revolution\"]\n",
    "}\n",
    "\n",
    "os.makedirs(\"wiki_articles\", exist_ok=True)\n",
    "\n",
    "raw_texts = []\n",
    "topic_labels = []\n",
    "\n",
    "print(\"Starting Wikipedia article download...\")\n",
    "\n",
    "for category, titles in topic_articles.items():\n",
    "    for title in titles:\n",
    "        page = wiki_api.page(title)\n",
    "        if page.exists():\n",
    "            text = page.text[:5000]\n",
    "            raw_texts.append(text)\n",
    "            topic_labels.append(category)\n",
    "\n",
    "            filename = f\"wiki_articles/{title.replace(' ', '_')}.txt\"\n",
    "            with open(filename, \"w\", encoding=\"utf-8\") as f:\n",
    "                f.write(text)\n",
    "\n",
    "            print(f\"Downloaded and saved article: {title} (Category: {category}, Length: {len(text)} chars)\")\n",
    "        else:\n",
    "            print(f\"Skipped missing page: {title}\")\n",
    "\n",
    "print(f\"\\nTotal downloaded documents: {len(raw_texts)}\")\n",
    "print(\"Articles saved inside /wiki_articles/\")\n"
   ],
   "id": "a8dd49f2653d6e5c",
   "outputs": [
    {
     "name": "stdout",
     "output_type": "stream",
     "text": [
      "Starting Wikipedia article download...\n",
      "Downloaded and saved article: Machine learning (Category: MachineLearning, Length: 5000 chars)\n",
      "Downloaded and saved article: Deep learning (Category: MachineLearning, Length: 5000 chars)\n",
      "Downloaded and saved article: Neural network (Category: MachineLearning, Length: 4185 chars)\n",
      "Downloaded and saved article: Supervised learning (Category: MachineLearning, Length: 5000 chars)\n",
      "Downloaded and saved article: Unsupervised learning (Category: MachineLearning, Length: 5000 chars)\n",
      "Downloaded and saved article: Star (Category: Astronomy, Length: 5000 chars)\n",
      "Downloaded and saved article: Galaxy (Category: Astronomy, Length: 5000 chars)\n",
      "Downloaded and saved article: Black hole (Category: Astronomy, Length: 5000 chars)\n",
      "Downloaded and saved article: Solar System (Category: Astronomy, Length: 5000 chars)\n",
      "Downloaded and saved article: Exoplanet (Category: Astronomy, Length: 5000 chars)\n",
      "Downloaded and saved article: World War II (Category: History, Length: 5000 chars)\n",
      "Downloaded and saved article: Roman Empire (Category: History, Length: 5000 chars)\n",
      "Downloaded and saved article: Industrial Revolution (Category: History, Length: 5000 chars)\n",
      "Downloaded and saved article: Ancient Greece (Category: History, Length: 5000 chars)\n",
      "Downloaded and saved article: French Revolution (Category: History, Length: 5000 chars)\n",
      "\n",
      "Total downloaded documents: 15\n",
      "Articles saved inside /wiki_articles/\n"
     ]
    }
   ],
   "execution_count": 13
  },
  {
   "metadata": {
    "ExecuteTime": {
     "end_time": "2025-10-30T18:26:59.091663Z",
     "start_time": "2025-10-30T18:26:59.053038Z"
    }
   },
   "cell_type": "code",
   "source": [
    "stop_words_set = set(stopwords.words('english'))\n",
    "lemmatizer = WordNetLemmatizer()\n",
    "\n",
    "def clean_text(text):\n",
    "    text = text.lower()\n",
    "    text = re.sub(f\"[{string.punctuation}]\", \" \", text)\n",
    "    tokens = nltk.word_tokenize(text)\n",
    "    tokens = [t for t in tokens if t.isalpha() and t not in stop_words_set]\n",
    "    tokens = [lemmatizer.lemmatize(t) for t in tokens]\n",
    "    return \" \".join(tokens)\n",
    "\n",
    "print(\"\\nStarting preprocessing...\")\n",
    "processed_texts = [clean_text(doc) for doc in raw_texts]\n",
    "print(f\"Finished preprocessing {len(processed_texts)} documents.\")\n",
    "print(f\"Example of processed text (first 250 chars):\\n{processed_texts[0][:250]}\")\n"
   ],
   "id": "4bf33e940837cbe2",
   "outputs": [
    {
     "name": "stdout",
     "output_type": "stream",
     "text": [
      "\n",
      "Starting preprocessing...\n",
      "Finished preprocessing 15 documents.\n",
      "Example of processed text (first 250 chars):\n",
      "machine learning ml field study artificial intelligence concerned development study statistical algorithm learn data generalise unseen data thus perform task without explicit instruction within subdiscipline machine learning advance field deep learni\n"
     ]
    }
   ],
   "execution_count": 14
  },
  {
   "metadata": {
    "ExecuteTime": {
     "end_time": "2025-10-30T18:27:05.687541Z",
     "start_time": "2025-10-30T18:27:05.673005Z"
    }
   },
   "cell_type": "code",
   "source": [
    "print(\"\\nCreating vector representations...\")\n",
    "\n",
    "bow_vectorizer = CountVectorizer(max_features=2000)\n",
    "bow_matrix = bow_vectorizer.fit_transform(processed_texts)\n",
    "\n",
    "tfidf_vectorizer = TfidfVectorizer(max_features=2000)\n",
    "tfidf_matrix = tfidf_vectorizer.fit_transform(processed_texts)\n",
    "\n",
    "print(f\"Bag-of-Words matrix shape: {bow_matrix.shape}\")\n",
    "print(f\"TF-IDF matrix shape: {tfidf_matrix.shape}\")\n",
    "print(f\"Vocabulary sample (first 20 terms):\\n{list(bow_vectorizer.get_feature_names_out()[:20])}\")\n"
   ],
   "id": "f4f2b52ae1f210f4",
   "outputs": [
    {
     "name": "stdout",
     "output_type": "stream",
     "text": [
      "\n",
      "Creating vector representations...\n",
      "Bag-of-Words matrix shape: (15, 2000)\n",
      "TF-IDF matrix shape: (15, 2000)\n",
      "Vocabulary sample (first 20 terms):\n",
      "['able', 'absorbing', 'abstraction', 'accelerating', 'acceleration', 'accession', 'accompanied', 'according', 'account', 'accountability', 'accretion', 'accuracy', 'accurately', 'achaemenid', 'across', 'act', 'action', 'actium', 'activation', 'active']\n"
     ]
    }
   ],
   "execution_count": 15
  },
  {
   "metadata": {
    "ExecuteTime": {
     "end_time": "2025-10-30T18:46:21.860104Z",
     "start_time": "2025-10-30T18:46:21.851477Z"
    }
   },
   "cell_type": "code",
   "source": [
    "num_topics = 5\n",
    "print(\"\\nPerforming Latent Semantic Analysis (SVD)...\")\n",
    "\n",
    "lsa_model = TruncatedSVD(n_components=num_topics, random_state=42)\n",
    "lsa_model.fit(tfidf_matrix)\n",
    "\n",
    "lsa_terms = tfidf_vectorizer.get_feature_names_out()\n",
    "for topic_index, component in enumerate(lsa_model.components_):\n",
    "    top_words = [lsa_terms[i] for i in component.argsort()[:-11:-1]]\n",
    "    print(f\"\\nLSA Topic {topic_index + 1}:\")\n",
    "    print(f\"Top words: {', '.join(top_words)}\")\n",
    "\n",
    "print(\"\\nLSA transformation complete.\")\n"
   ],
   "id": "f2670bc6815e7ec2",
   "outputs": [
    {
     "name": "stdout",
     "output_type": "stream",
     "text": [
      "\n",
      "Performing Latent Semantic Analysis (SVD)...\n",
      "\n",
      "LSA Topic 1:\n",
      "Top words: learning, network, neural, algorithm, machine, layer, data, deep, unsupervised, training\n",
      "\n",
      "LSA Topic 2:\n",
      "Top words: star, planet, solar, galaxy, system, mass, sun, black, bc, hole\n",
      "\n",
      "LSA Topic 3:\n",
      "Top words: bc, roman, war, empire, century, classical, period, revolution, greece, industrial\n",
      "\n",
      "LSA Topic 4:\n",
      "Top words: revolution, industrial, planet, crisis, tax, solar, growth, economic, public, financial\n",
      "\n",
      "LSA Topic 5:\n",
      "Top words: galaxy, star, black, hole, revolution, catalogue, industrial, milky, way, light\n",
      "\n",
      "LSA transformation complete.\n"
     ]
    }
   ],
   "execution_count": 18
  },
  {
   "metadata": {
    "ExecuteTime": {
     "end_time": "2025-10-30T18:46:28.806704Z",
     "start_time": "2025-10-30T18:46:28.794116Z"
    }
   },
   "cell_type": "code",
   "source": [
    "print(\"\\nPerforming Non-Negative Matrix Factorization...\")\n",
    "\n",
    "nmf_model = NMF(n_components=num_topics, random_state=42)\n",
    "nmf_model.fit(tfidf_matrix)\n",
    "\n",
    "nmf_terms = tfidf_vectorizer.get_feature_names_out()\n",
    "for topic_index, component in enumerate(nmf_model.components_):\n",
    "    top_words = [nmf_terms[i] for i in component.argsort()[:-11:-1]]\n",
    "    print(f\"\\nNMF Topic {topic_index + 1}:\")\n",
    "    print(f\"Top words: {', '.join(top_words)}\")\n",
    "\n",
    "print(\"\\nNMF topic extraction complete.\")\n"
   ],
   "id": "baabbeaf0b96e6dd",
   "outputs": [
    {
     "name": "stdout",
     "output_type": "stream",
     "text": [
      "\n",
      "Performing Non-Negative Matrix Factorization...\n",
      "\n",
      "NMF Topic 1:\n",
      "Top words: learning, network, neural, algorithm, machine, layer, data, deep, unsupervised, training\n",
      "\n",
      "NMF Topic 2:\n",
      "Top words: planet, solar, system, sun, star, mass, exoplanets, exoplanet, object, orbit\n",
      "\n",
      "NMF Topic 3:\n",
      "Top words: bc, roman, war, empire, classical, greece, period, century, emperor, rome\n",
      "\n",
      "NMF Topic 4:\n",
      "Top words: revolution, industrial, crisis, tax, growth, economic, political, public, financial, production\n",
      "\n",
      "NMF Topic 5:\n",
      "Top words: star, galaxy, black, hole, catalogue, milky, way, astronomer, light, known\n",
      "\n",
      "NMF topic extraction complete.\n"
     ]
    }
   ],
   "execution_count": 19
  },
  {
   "metadata": {
    "ExecuteTime": {
     "end_time": "2025-10-30T18:46:31.105093Z",
     "start_time": "2025-10-30T18:46:31.071356Z"
    }
   },
   "cell_type": "code",
   "source": [
    "print(\"\\nPerforming Latent Dirichlet Allocation (sklearn)...\")\n",
    "\n",
    "lda_model_sklearn = LatentDirichletAllocation(\n",
    "    n_components=num_topics,\n",
    "    random_state=42,\n",
    "    learning_method='batch'\n",
    ")\n",
    "lda_model_sklearn.fit(bow_matrix)\n",
    "\n",
    "lda_terms = bow_vectorizer.get_feature_names_out()\n",
    "for topic_index, component in enumerate(lda_model_sklearn.components_):\n",
    "    top_words = [lda_terms[i] for i in component.argsort()[:-11:-1]]\n",
    "    print(f\"\\nLDA Topic {topic_index + 1}:\")\n",
    "    print(f\"Top words: {', '.join(top_words)}\")\n",
    "\n",
    "print(\"\\nLDA model training complete.\")\n"
   ],
   "id": "49a0fba440839081",
   "outputs": [
    {
     "name": "stdout",
     "output_type": "stream",
     "text": [
      "\n",
      "Performing Latent Dirichlet Allocation (sklearn)...\n",
      "\n",
      "LDA Topic 1:\n",
      "Top words: war, black, hole, world, light, germany, japan, soviet, ii, star\n",
      "\n",
      "LDA Topic 2:\n",
      "Top words: bc, century, period, roman, empire, classical, political, power, state, greece\n",
      "\n",
      "LDA Topic 3:\n",
      "Top words: star, galaxy, planet, mass, milky, way, system, catalogue, astronomer, object\n",
      "\n",
      "LDA Topic 4:\n",
      "Top words: system, solar, sun, planet, cloud, orbit, body, within, object, au\n",
      "\n",
      "LDA Topic 5:\n",
      "Top words: learning, network, machine, neural, algorithm, data, layer, model, training, supervised\n",
      "\n",
      "LDA model training complete.\n"
     ]
    }
   ],
   "execution_count": 20
  },
  {
   "metadata": {
    "ExecuteTime": {
     "end_time": "2025-10-30T18:46:43.277513Z",
     "start_time": "2025-10-30T18:46:33.939365Z"
    }
   },
   "cell_type": "code",
   "source": [
    "print(\"\\nEvaluating topic coherence using gensim...\")\n",
    "\n",
    "tokenized_texts = [doc.split() for doc in processed_texts]\n",
    "gensim_dictionary = corpora.Dictionary(tokenized_texts)\n",
    "gensim_corpus = [gensim_dictionary.doc2bow(text) for text in tokenized_texts]\n",
    "\n",
    "gensim_lda_model = LdaModel(\n",
    "    corpus=gensim_corpus,\n",
    "    num_topics=num_topics,\n",
    "    id2word=gensim_dictionary,\n",
    "    passes=10,\n",
    "    random_state=42\n",
    ")\n",
    "\n",
    "coherence_model = CoherenceModel(\n",
    "    model=gensim_lda_model,\n",
    "    texts=tokenized_texts,\n",
    "    dictionary=gensim_dictionary,\n",
    "    coherence='c_v'\n",
    ")\n",
    "lda_coherence_score = coherence_model.get_coherence()\n",
    "\n",
    "print(f\"Gensim LDA model created with {num_topics} topics.\")\n",
    "print(f\"Topic coherence score (C_v): {lda_coherence_score:.3f}\")\n"
   ],
   "id": "ed0c32507e68bfa1",
   "outputs": [
    {
     "name": "stdout",
     "output_type": "stream",
     "text": [
      "\n",
      "Evaluating topic coherence using gensim...\n",
      "Gensim LDA model created with 5 topics.\n",
      "Topic coherence score (C_v): 0.422\n"
     ]
    }
   ],
   "execution_count": 21
  },
  {
   "metadata": {
    "ExecuteTime": {
     "end_time": "2025-10-30T18:48:36.849183Z",
     "start_time": "2025-10-30T18:48:35.064660Z"
    }
   },
   "cell_type": "code",
   "source": [
    "print(\"\\nPreparing LDA visualization data...\")\n",
    "\n",
    "pyLDAvis.enable_notebook()\n",
    "os.makedirs('./results', exist_ok=True)\n",
    "visualization_path = os.path.join('./results', f'ldavis_prepared_{num_topics}.pkl')\n",
    "\n",
    "lda_visualization = pyLDAvis.gensim.prepare(gensim_lda_model, gensim_corpus, gensim_dictionary)\n",
    "with open(visualization_path, 'wb') as f:\n",
    "    pickle.dump(lda_visualization, f)\n",
    "\n",
    "pyLDAvis.save_html(lda_visualization, f'./results/ldavis_prepared_{num_topics}.html')\n",
    "\n",
    "print(f\"Visualization prepared and saved to: ./results/ldavis_prepared_{num_topics}.html\")\n",
    "lda_visualization\n"
   ],
   "id": "4e8b840d64724afc",
   "outputs": [
    {
     "name": "stdout",
     "output_type": "stream",
     "text": [
      "\n",
      "Preparing LDA visualization data...\n",
      "Visualization prepared and saved to: ./results/ldavis_prepared_5.html\n"
     ]
    },
    {
     "data": {
      "text/plain": [
       "PreparedData(topic_coordinates=              x         y  topics  cluster       Freq\n",
       "topic                                                \n",
       "2     -0.108147  0.034155       1        1  26.635519\n",
       "1      0.182728  0.089946       2        1  21.571103\n",
       "0      0.083581 -0.136151       3        1  20.228112\n",
       "4     -0.082017  0.075701       4        1  17.894751\n",
       "3     -0.076145 -0.063650       5        1  13.670516, topic_info=          Term       Freq      Total Category  logprob  loglift\n",
       "128   learning  75.000000  75.000000  Default  30.0000  30.0000\n",
       "154    network  44.000000  44.000000  Default  29.0000  29.0000\n",
       "155     neural  31.000000  31.000000  Default  28.0000  28.0000\n",
       "966     galaxy  27.000000  27.000000  Default  27.0000  27.0000\n",
       "1078      star  55.000000  55.000000  Default  26.0000  26.0000\n",
       "...        ...        ...        ...      ...      ...      ...\n",
       "1078      star   6.672661  55.731993   Topic5  -4.9165  -0.1326\n",
       "1640    battle   2.740454   5.526695   Topic5  -5.8064   1.2885\n",
       "915    century   2.757212  24.972010   Topic5  -5.8003  -0.2136\n",
       "691       part   2.738280   8.589156   Topic5  -5.8072   0.8468\n",
       "539      group   2.737145   5.651557   Topic5  -5.8076   1.2649\n",
       "\n",
       "[289 rows x 6 columns], token_table=      Topic      Freq        Term\n",
       "term                             \n",
       "613       3  0.687199    accuracy\n",
       "492       2  0.665048  activation\n",
       "869       3  0.765589          ad\n",
       "869       4  0.153118          ad\n",
       "871       3  0.826696         age\n",
       "...     ...       ...         ...\n",
       "736       3  0.161677       would\n",
       "737       1  0.170043           x\n",
       "737       3  0.680171           x\n",
       "2402      1  0.773402         xvi\n",
       "867       2  0.665129           z\n",
       "\n",
       "[417 rows x 3 columns], R=30, lambda_step=0.01, plot_opts={'xlab': 'PC1', 'ylab': 'PC2'}, topic_order=[3, 2, 1, 5, 4])"
      ],
      "text/html": [
       "\n",
       "<link rel=\"stylesheet\" type=\"text/css\" href=\"https://cdn.jsdelivr.net/gh/bmabey/pyLDAvis@3.4.0/pyLDAvis/js/ldavis.v1.0.0.css\">\n",
       "\n",
       "\n",
       "<div id=\"ldavis_el814823626037753129584174150\" style=\"background-color:white;\"></div>\n",
       "<script type=\"text/javascript\">\n",
       "\n",
       "var ldavis_el814823626037753129584174150_data = {\"mdsDat\": {\"x\": [-0.10814703398716327, 0.1827275571070492, 0.08358092650401554, -0.08201694921224996, -0.0761445004116516], \"y\": [0.034154707216467364, 0.08994558598651693, -0.13615120381573056, 0.07570139904893562, -0.06365048843618944], \"topics\": [1, 2, 3, 4, 5], \"cluster\": [1, 1, 1, 1, 1], \"Freq\": [26.635518554081926, 21.571102658061097, 20.228111776527918, 17.894750538746063, 13.670516472582994]}, \"tinfo\": {\"Term\": [\"learning\", \"network\", \"neural\", \"galaxy\", \"star\", \"war\", \"deep\", \"layer\", \"solar\", \"bc\", \"planet\", \"roman\", \"system\", \"sun\", \"revolution\", \"black\", \"neuron\", \"model\", \"period\", \"data\", \"unsupervised\", \"hole\", \"machine\", \"empire\", \"milky\", \"artificial\", \"germany\", \"industrial\", \"world\", \"classical\", \"industrial\", \"revolution\", \"exoplanets\", \"exoplanet\", \"growth\", \"black\", \"relativity\", \"hole\", \"production\", \"escape\", \"working\", \"brown\", \"tax\", \"laplace\", \"deuterium\", \"iau\", \"louis\", \"public\", \"financial\", \"textile\", \"theory\", \"einstein\", \"michell\", \"extrasolar\", \"limiting\", \"estate\", \"official\", \"nobility\", \"xvi\", \"french\", \"britain\", \"mass\", \"crisis\", \"light\", \"supermassive\", \"planet\", \"economic\", \"would\", \"matter\", \"first\", \"object\", \"general\", \"political\", \"social\", \"star\", \"definition\", \"system\", \"body\", \"solar\", \"led\", \"century\", \"dwarf\", \"used\", \"neural\", \"deep\", \"layer\", \"network\", \"neuron\", \"unsupervised\", \"artificial\", \"signal\", \"cap\", \"recognition\", \"generative\", \"biological\", \"brain\", \"depth\", \"boltzmann\", \"connected\", \"application\", \"cell\", \"task\", \"dataset\", \"hidden\", \"supervision\", \"pattern\", \"model\", \"belief\", \"autoencoders\", \"activation\", \"z\", \"k\", \"weight\", \"p\", \"learning\", \"e\", \"machine\", \"processing\", \"data\", \"method\", \"algorithm\", \"supervised\", \"feature\", \"used\", \"output\", \"function\", \"example\", \"input\", \"roman\", \"classical\", \"greece\", \"rome\", \"variance\", \"emperor\", \"set\", \"culture\", \"learned\", \"antiquity\", \"athens\", \"empire\", \"r\", \"hellenistic\", \"parameter\", \"tradeoff\", \"macedon\", \"archaic\", \"herodotus\", \"age\", \"republic\", \"ad\", \"persian\", \"flexible\", \"entire\", \"available\", \"league\", \"user\", \"accuracy\", \"g\", \"bc\", \"period\", \"mediterranean\", \"x\", \"training\", \"bias\", \"greek\", \"century\", \"input\", \"function\", \"western\", \"power\", \"city\", \"algorithm\", \"data\", \"history\", \"learning\", \"supervised\", \"output\", \"state\", \"war\", \"early\", \"au\", \"helium\", \"calendar\", \"hydrogen\", \"supernova\", \"mar\", \"constellation\", \"sun\", \"reinforcement\", \"within\", \"molecular\", \"asteroid\", \"sn\", \"outer\", \"disc\", \"fixed\", \"astronomy\", \"celestial\", \"heavier\", \"evolution\", \"chinese\", \"sphere\", \"ml\", \"cognitive\", \"astronomer\", \"cloud\", \"frost\", \"faster\", \"protoplanetary\", \"comet\", \"solar\", \"study\", \"interstellar\", \"medium\", \"star\", \"system\", \"orbit\", \"name\", \"earth\", \"planet\", \"stellar\", \"computer\", \"element\", \"body\", \"used\", \"material\", \"many\", \"formed\", \"object\", \"machine\", \"dwarf\", \"bc\", \"mass\", \"known\", \"algorithm\", \"catalogue\", \"nebula\", \"form\", \"two\", \"germany\", \"japan\", \"soviet\", \"japanese\", \"pacific\", \"galaxy\", \"allied\", \"spiral\", \"andromeda\", \"sino\", \"manchuria\", \"surrender\", \"date\", \"ally\", \"front\", \"poland\", \"invaded\", \"messier\", \"country\", \"ii\", \"september\", \"war\", \"union\", \"austria\", \"island\", \"unconditional\", \"unresolved\", \"occupied\", \"bombing\", \"bce\", \"catalogue\", \"world\", \"milky\", \"invasion\", \"sky\", \"british\", \"parsec\", \"million\", \"way\", \"nebula\", \"universe\", \"united\", \"france\", \"europe\", \"known\", \"star\", \"battle\", \"century\", \"part\", \"group\"], \"Freq\": [75.0, 44.0, 31.0, 27.0, 55.0, 26.0, 22.0, 22.0, 28.0, 23.0, 31.0, 15.0, 38.0, 16.0, 20.0, 21.0, 14.0, 20.0, 19.0, 23.0, 13.0, 20.0, 30.0, 15.0, 14.0, 12.0, 8.0, 14.0, 14.0, 10.0, 13.507475840497866, 18.989955960847894, 7.9632784628737046, 7.168035952274861, 6.429889074928827, 19.76304955632567, 5.646509132147933, 18.196914538466665, 4.86778635480532, 4.863205231468434, 4.850666963456007, 4.83036248256611, 4.790967714774928, 4.078261053069127, 4.0607366548754165, 4.057145318673564, 4.053944111513662, 4.0387588344824925, 4.0178889970995995, 3.2990057743805896, 3.2941549908743477, 3.293747091123919, 3.292112392580026, 3.2813972752758227, 3.280335578762295, 3.2687635413643585, 3.2632108148732093, 3.262800022216749, 3.26049623583502, 6.397367438595989, 5.656543796626319, 17.37172549117523, 7.146159796865327, 10.352427062688522, 4.8623435587433645, 19.731966520835023, 7.209945895224211, 4.863918952713613, 5.642143323674242, 11.126895201803508, 11.903452845617755, 7.212883434662964, 7.137257911734384, 5.629813344896076, 15.853875554614225, 5.6241531676094745, 10.436623852915885, 6.443233637179438, 8.036797950211417, 5.594663296797555, 7.243008504984923, 5.63609384389027, 5.667147123776022, 30.203424611179855, 22.093328834010205, 22.068799805587695, 42.25358494192046, 13.621982132135564, 12.834920554659941, 11.998708544891139, 7.64914965412096, 6.213149214559888, 6.8659169720327595, 6.1626211831920035, 6.164348202440177, 5.416999700331229, 4.697332371466361, 4.663981153051097, 4.6573207493614355, 5.3140452551970805, 4.618926032292929, 10.477552668648995, 3.904005998198622, 3.1660848122065945, 3.153161620886734, 5.530193093690208, 16.53048603980089, 2.4243375757231913, 2.4058767105718077, 2.4059943553907486, 2.40471147461977, 2.4022985007302915, 2.3993647435171392, 5.305271261090322, 54.75498193284357, 11.334942753989006, 20.177965418464396, 2.896621278911854, 13.259496857239244, 7.497507323321729, 11.86071569063823, 8.328098487886301, 6.2188129005516695, 8.320219129913335, 6.959955178257732, 6.189141638848357, 5.441121741271999, 5.4586647090807245, 14.612237820631096, 10.275703507078816, 8.822868971125054, 6.647018111123272, 5.937066358133093, 5.924766340361584, 10.449454832374622, 3.7636199491685014, 3.7638528303419245, 3.7630559498846177, 3.7626005447867237, 13.152115547686916, 3.755942089134196, 3.0398353055618013, 3.039733616208447, 3.0390312064158302, 3.0385532036838576, 3.0380843027767224, 3.0372554090044703, 5.939391403594979, 5.930011502316099, 5.210713744498159, 2.316967435415438, 2.317017809308072, 2.3165887681166035, 2.316649813114219, 2.3163373694374765, 2.316509990253356, 2.316288250968958, 2.3163809954254897, 18.959812961567046, 15.432390074766886, 4.483170361089684, 4.485738017261888, 11.037489210949326, 5.225405972921733, 8.115641488465487, 13.922121140953594, 8.835940447015531, 8.850179467333414, 5.202821206940105, 6.661650079189301, 4.497259044369736, 10.902744540633838, 9.86091012389697, 7.470142581852482, 17.770033717652378, 7.525595292745711, 6.678168321988855, 5.270866135567723, 5.935436817631187, 4.58051845785297, 4.3787825055971155, 2.968405390277781, 2.9671842768577092, 2.967038787218756, 2.966831381187652, 2.966906624874974, 2.9660275786976324, 13.56634131176251, 2.902232593232378, 5.792929301886053, 2.2615893755213086, 2.2612528613182326, 2.2608062581040023, 2.26081722535732, 2.260617038277768, 2.2604505859141177, 2.260149472338841, 2.260090193640527, 2.2600371621118245, 2.2600538212307884, 2.259806016836197, 2.2598619637107182, 2.1966064560479195, 2.1898454914423136, 8.615160641072876, 5.799541306202921, 1.5559070138103457, 1.5555975706755867, 1.5555721655191663, 1.5553883599065954, 19.222188832036252, 3.55113942807962, 2.970596897377514, 2.968383455771145, 32.68395863284498, 21.277619805638405, 6.502959832472649, 3.675826825182609, 5.090940128023449, 11.463101998557061, 5.092699886290029, 3.9585698346737654, 2.9677642918496443, 5.796427161564558, 6.5890813691736465, 2.9689493105119604, 4.7166585916481205, 3.662247977314936, 5.121487954467998, 5.063234902578149, 3.6834883539942185, 4.413676696179409, 4.406057648121158, 3.6635043525368154, 3.494444836768866, 2.984124101976398, 2.978281748955673, 2.9768718321873413, 2.9737582428529428, 7.9429310957447035, 7.297861238581309, 6.639809857802292, 3.388051670653879, 3.3848666348934104, 22.924904912798965, 2.7351732155625483, 2.7344168332022774, 2.7330508482330833, 2.084543332933706, 2.084432611791793, 2.0841965339547257, 2.084012635046606, 2.08394560845495, 2.083725650937395, 2.083222951499974, 2.083221890952638, 2.0820028978442595, 2.0822500053736244, 5.994037494083312, 4.038255425362983, 19.687786945300196, 5.343959732397763, 1.4338755887649566, 1.4334759745286272, 1.4333967516426034, 1.432914202604573, 1.432988759082317, 1.432903172912275, 1.432658928860718, 6.640614176902165, 9.246910528591675, 9.248995140435966, 5.345380865828446, 2.732420246786901, 2.7348913220805513, 2.7325702081802583, 4.68934664608313, 7.295152176465386, 3.385673499306891, 2.7357000954792374, 2.736997569090504, 3.3897466374068026, 3.387819835006157, 4.042776326548294, 6.672661372092471, 2.740453680750139, 2.7572122376493695, 2.738279770820128, 2.737144985170254], \"Total\": [75.0, 44.0, 31.0, 27.0, 55.0, 26.0, 22.0, 22.0, 28.0, 23.0, 31.0, 15.0, 38.0, 16.0, 20.0, 21.0, 14.0, 20.0, 19.0, 23.0, 13.0, 20.0, 30.0, 15.0, 14.0, 12.0, 8.0, 14.0, 14.0, 10.0, 14.132539945104195, 20.37815000338083, 8.61000773625115, 7.820681008747989, 7.035073236569862, 21.800607335861223, 6.246400664648052, 20.224817604926365, 5.458898513707427, 5.458001183286321, 5.457869453431447, 5.456345969673035, 5.45275785166961, 4.669725468671708, 4.6690265118172025, 4.668704703362957, 4.668059413946931, 4.66713838884851, 4.665467285552784, 3.881937967915931, 3.881283037597697, 3.881116039508229, 3.8810302316220007, 3.8808717566192286, 3.880806490839111, 3.8797746788968186, 3.8793378997735437, 3.8791247032708687, 3.8789634766943464, 7.686594063330197, 6.901514562404111, 24.297347761173796, 9.272714500772913, 14.416798405908118, 6.1117888583110105, 31.809711153418444, 9.858711402012961, 6.185158313812641, 7.554441749997351, 19.706459941595522, 23.2655855483026, 11.377538281533958, 12.108068706541388, 8.353801101642665, 55.7319928581607, 9.091866773781442, 38.14439415932628, 12.721684007158531, 28.46007334051715, 9.152176632507949, 24.972010093816078, 10.454059078956933, 23.75619517141328, 31.12101491039119, 22.764931216492318, 22.76706872157144, 44.00471694060864, 14.405429780787276, 13.63695536806705, 12.878484139543097, 8.327345813646014, 6.807697198748771, 7.5621234428713215, 6.8051632606208905, 6.808188913260569, 6.048356852032361, 5.287719748007694, 5.286147523558853, 5.287809478407266, 6.041279232059902, 5.286317091863889, 12.079619560499575, 4.5262856204880775, 3.7674136023452673, 3.7663896787267896, 6.765718427106356, 20.401970722424203, 3.0077809867347103, 3.00685447798711, 3.007300005382828, 3.0069335505697405, 3.0067809665327316, 3.007453038519916, 6.693172642544468, 75.75338843417418, 15.028491216399138, 30.751878169798537, 3.7495122570988766, 23.835794567750483, 12.194119794019795, 26.611150052241943, 16.354011408717156, 11.099192879743448, 23.75619517141328, 15.691661330299736, 15.536719359978697, 10.264630067908739, 14.77794867506195, 15.277421359942007, 10.912310359234892, 9.45711121426394, 7.275662009145214, 6.548010983831563, 6.548149719037531, 11.649428604188264, 4.365197981867189, 4.365486354418738, 4.365176998304621, 4.365108090889404, 15.266971899886816, 4.365790530598013, 3.6376943020165293, 3.6380861530959496, 3.638102517135192, 3.6376837507061928, 3.6375978442902377, 3.6376356525315856, 7.257806651052188, 7.336749199813038, 6.530921727913627, 2.910233555277461, 2.91049610801607, 2.910320073355708, 2.910488784399535, 2.9102946053904835, 2.9105165314557677, 2.910367068753809, 2.9104979000210562, 23.906960691899663, 19.715132972971404, 5.747113945772308, 5.880870558518898, 16.198642929565935, 7.367771730724922, 12.824476109525945, 24.972010093816078, 14.77794867506195, 15.536719359978697, 7.917529098273197, 11.737267578515542, 6.53406456149792, 26.611150052241943, 23.835794567750483, 15.280844069223754, 75.75338843417418, 16.354011408717156, 15.691661330299736, 14.134377161490596, 26.958248646903183, 14.085987604531638, 4.99316286924363, 3.5715378062735086, 3.5713556850400865, 3.5714925458826436, 3.5714260254359202, 3.571527812849883, 3.5716291075582567, 16.599378840120472, 3.573088545449723, 7.202511095686447, 2.8605339765491955, 2.860584333710211, 2.8606213005443593, 2.860709917628573, 2.860761673447182, 2.8605749452795552, 2.8606273127810864, 2.8606626517864897, 2.8606148912380718, 2.860659511859288, 2.8606378990137733, 2.860721840295597, 2.8622916931438533, 2.862478926687057, 11.354763811357895, 7.85706048311166, 2.1496787972076814, 2.1496760132812684, 2.14978173570158, 2.14964978558031, 28.46007334051715, 5.074123474869581, 4.225183471347683, 4.225602430139159, 55.7319928581607, 38.14439415932628, 11.067264121030293, 5.72430360095242, 9.377069857408124, 31.809711153418444, 9.510987641905, 6.536009741488782, 4.358665501266299, 12.721684007158531, 23.75619517141328, 5.119355775328663, 16.83469959635362, 9.605403648381976, 23.2655855483026, 30.751878169798537, 10.454059078956933, 23.906960691899663, 24.297347761173796, 14.269843083806919, 26.611150052241943, 10.11275606762272, 6.8419036663131845, 11.766324650439229, 10.788352668968647, 8.57851690209681, 7.92350524006562, 7.2700986138096555, 3.9985977280508154, 3.9992723782740907, 27.405766743411412, 3.3448086286473826, 3.3443831120618626, 3.3445576035472797, 2.6905153131024004, 2.690468607439476, 2.690614193276642, 2.690601681112571, 2.690664046553367, 2.6907150575326746, 2.6906896616122356, 2.6907779772581244, 2.690470256553959, 2.6909446399738646, 8.070111713136777, 5.441342584114776, 26.958248646903183, 7.459788029938987, 2.0362894333804054, 2.0362087853812794, 2.03631716848351, 2.036254851344618, 2.0363844551118313, 2.036442692847673, 2.036209297902994, 10.11275606762272, 14.340210779354123, 14.45960587294799, 8.143596181451965, 4.055259718069745, 4.133217775254747, 4.1322380895033515, 7.6715572359754525, 14.073538679169639, 6.8419036663131845, 4.8431021733507835, 4.860311787211627, 7.939647287790618, 8.547784438932169, 14.269843083806919, 55.7319928581607, 5.526695393148936, 24.972010093816078, 8.589156051676955, 5.651557398496495], \"Category\": [\"Default\", \"Default\", \"Default\", \"Default\", \"Default\", \"Default\", \"Default\", \"Default\", \"Default\", \"Default\", \"Default\", \"Default\", \"Default\", \"Default\", \"Default\", \"Default\", \"Default\", \"Default\", \"Default\", \"Default\", \"Default\", \"Default\", \"Default\", \"Default\", \"Default\", \"Default\", \"Default\", \"Default\", \"Default\", \"Default\", \"Topic1\", \"Topic1\", \"Topic1\", \"Topic1\", \"Topic1\", \"Topic1\", \"Topic1\", \"Topic1\", \"Topic1\", \"Topic1\", \"Topic1\", \"Topic1\", \"Topic1\", \"Topic1\", \"Topic1\", \"Topic1\", \"Topic1\", \"Topic1\", \"Topic1\", \"Topic1\", \"Topic1\", \"Topic1\", \"Topic1\", \"Topic1\", \"Topic1\", \"Topic1\", \"Topic1\", \"Topic1\", \"Topic1\", \"Topic1\", \"Topic1\", \"Topic1\", \"Topic1\", \"Topic1\", \"Topic1\", \"Topic1\", \"Topic1\", \"Topic1\", \"Topic1\", \"Topic1\", \"Topic1\", \"Topic1\", \"Topic1\", \"Topic1\", \"Topic1\", \"Topic1\", \"Topic1\", \"Topic1\", \"Topic1\", \"Topic1\", \"Topic1\", \"Topic1\", \"Topic1\", \"Topic2\", \"Topic2\", \"Topic2\", \"Topic2\", \"Topic2\", \"Topic2\", \"Topic2\", \"Topic2\", \"Topic2\", \"Topic2\", \"Topic2\", \"Topic2\", \"Topic2\", \"Topic2\", \"Topic2\", \"Topic2\", \"Topic2\", \"Topic2\", \"Topic2\", \"Topic2\", \"Topic2\", \"Topic2\", \"Topic2\", \"Topic2\", \"Topic2\", \"Topic2\", \"Topic2\", \"Topic2\", \"Topic2\", \"Topic2\", \"Topic2\", \"Topic2\", \"Topic2\", \"Topic2\", \"Topic2\", \"Topic2\", \"Topic2\", \"Topic2\", \"Topic2\", \"Topic2\", \"Topic2\", \"Topic2\", \"Topic2\", \"Topic2\", \"Topic2\", \"Topic3\", \"Topic3\", \"Topic3\", \"Topic3\", \"Topic3\", \"Topic3\", \"Topic3\", \"Topic3\", \"Topic3\", \"Topic3\", \"Topic3\", \"Topic3\", \"Topic3\", \"Topic3\", \"Topic3\", \"Topic3\", \"Topic3\", \"Topic3\", \"Topic3\", \"Topic3\", \"Topic3\", \"Topic3\", \"Topic3\", \"Topic3\", \"Topic3\", \"Topic3\", \"Topic3\", \"Topic3\", \"Topic3\", \"Topic3\", \"Topic3\", \"Topic3\", \"Topic3\", \"Topic3\", \"Topic3\", \"Topic3\", \"Topic3\", \"Topic3\", \"Topic3\", \"Topic3\", \"Topic3\", \"Topic3\", \"Topic3\", \"Topic3\", \"Topic3\", \"Topic3\", \"Topic3\", \"Topic3\", \"Topic3\", \"Topic3\", \"Topic3\", \"Topic3\", \"Topic4\", \"Topic4\", \"Topic4\", \"Topic4\", \"Topic4\", \"Topic4\", \"Topic4\", \"Topic4\", \"Topic4\", \"Topic4\", \"Topic4\", \"Topic4\", \"Topic4\", \"Topic4\", \"Topic4\", \"Topic4\", \"Topic4\", \"Topic4\", \"Topic4\", \"Topic4\", \"Topic4\", \"Topic4\", \"Topic4\", \"Topic4\", \"Topic4\", \"Topic4\", \"Topic4\", \"Topic4\", \"Topic4\", \"Topic4\", \"Topic4\", \"Topic4\", \"Topic4\", \"Topic4\", \"Topic4\", \"Topic4\", \"Topic4\", \"Topic4\", \"Topic4\", \"Topic4\", \"Topic4\", \"Topic4\", \"Topic4\", \"Topic4\", \"Topic4\", \"Topic4\", \"Topic4\", \"Topic4\", \"Topic4\", \"Topic4\", \"Topic4\", \"Topic4\", \"Topic4\", \"Topic4\", \"Topic4\", \"Topic4\", \"Topic4\", \"Topic4\", \"Topic4\", \"Topic5\", \"Topic5\", \"Topic5\", \"Topic5\", \"Topic5\", \"Topic5\", \"Topic5\", \"Topic5\", \"Topic5\", \"Topic5\", \"Topic5\", \"Topic5\", \"Topic5\", \"Topic5\", \"Topic5\", \"Topic5\", \"Topic5\", \"Topic5\", \"Topic5\", \"Topic5\", \"Topic5\", \"Topic5\", \"Topic5\", \"Topic5\", \"Topic5\", \"Topic5\", \"Topic5\", \"Topic5\", \"Topic5\", \"Topic5\", \"Topic5\", \"Topic5\", \"Topic5\", \"Topic5\", \"Topic5\", \"Topic5\", \"Topic5\", \"Topic5\", \"Topic5\", \"Topic5\", \"Topic5\", \"Topic5\", \"Topic5\", \"Topic5\", \"Topic5\", \"Topic5\", \"Topic5\", \"Topic5\", \"Topic5\", \"Topic5\"], \"logprob\": [30.0, 29.0, 28.0, 27.0, 26.0, 25.0, 24.0, 23.0, 22.0, 21.0, 20.0, 19.0, 18.0, 17.0, 16.0, 15.0, 14.0, 13.0, 12.0, 11.0, 10.0, 9.0, 8.0, 7.0, 6.0, 5.0, 4.0, 3.0, 2.0, 1.0, -4.8783, -4.5376, -5.4067, -5.5119, -5.6206, -4.4977, -5.7505, -4.5803, -5.8989, -5.8999, -5.9024, -5.9066, -5.9148, -6.0759, -6.0802, -6.0811, -6.0819, -6.0856, -6.0908, -6.2879, -6.2894, -6.2895, -6.29, -6.2933, -6.2936, -6.2971, -6.2988, -6.299, -6.2997, -5.6257, -5.7487, -4.6267, -5.515, -5.1443, -5.9, -4.4993, -5.5061, -5.8997, -5.7513, -5.0722, -5.0047, -5.5057, -5.5162, -5.7535, -4.7181, -5.7545, -5.1362, -5.6185, -5.3975, -5.7597, -5.5015, -5.7524, -5.7469, -3.8627, -4.1754, -4.1765, -3.527, -4.659, -4.7185, -4.7859, -5.2361, -5.444, -5.3441, -5.4522, -5.4519, -5.5811, -5.7237, -5.7308, -5.7322, -5.6003, -5.7405, -4.9214, -5.9087, -6.1182, -6.1223, -5.5604, -4.4655, -6.3851, -6.3927, -6.3927, -6.3932, -6.3942, -6.3955, -5.602, -3.2678, -4.8428, -4.2661, -6.2071, -4.6859, -5.2561, -4.7974, -5.151, -5.4431, -5.152, -5.3305, -5.4479, -5.5767, -5.5735, -4.5245, -4.8766, -5.029, -5.3122, -5.4252, -5.4272, -4.8598, -5.881, -5.8809, -5.8811, -5.8813, -4.6298, -5.883, -6.0946, -6.0946, -6.0948, -6.095, -6.0952, -6.0954, -5.4248, -5.4264, -5.5557, -6.3661, -6.3661, -6.3663, -6.3663, -6.3664, -6.3663, -6.3664, -6.3664, -4.2641, -4.4699, -5.706, -5.7055, -4.8051, -5.5528, -5.1126, -4.5729, -5.0276, -5.0259, -5.5572, -5.31, -5.7029, -4.8174, -4.9178, -5.1955, -4.3289, -5.1881, -5.3075, -5.5442, -5.4254, -5.6846, -5.607, -5.9958, -5.9962, -5.9962, -5.9963, -5.9963, -5.9966, -4.4762, -6.0183, -5.3272, -6.2677, -6.2679, -6.2681, -6.2681, -6.2682, -6.2682, -6.2684, -6.2684, -6.2684, -6.2684, -6.2685, -6.2685, -6.2969, -6.3, -4.9303, -5.326, -6.6418, -6.642, -6.642, -6.6421, -4.1277, -5.8165, -5.995, -5.9958, -3.5969, -4.0262, -5.2116, -5.782, -5.4563, -4.6447, -5.456, -5.7079, -5.996, -5.3266, -5.1984, -5.9956, -5.5327, -5.7857, -5.4504, -5.4618, -5.78, -5.5991, -5.6008, -5.7854, -5.8326, -5.9905, -5.9925, -5.9929, -5.994, -4.7423, -4.827, -4.9215, -5.5943, -5.5952, -3.6823, -5.8084, -5.8086, -5.8091, -6.08, -6.08, -6.0802, -6.0803, -6.0803, -6.0804, -6.0806, -6.0806, -6.0812, -6.0811, -5.0238, -5.4187, -3.8345, -5.1386, -6.4542, -6.4544, -6.4545, -6.4548, -6.4548, -6.4548, -6.455, -4.9213, -4.5903, -4.59, -5.1383, -5.8094, -5.8085, -5.8093, -5.2693, -4.8273, -5.595, -5.8082, -5.8077, -5.5938, -5.5944, -5.4176, -4.9165, -5.8064, -5.8003, -5.8072, -5.8076], \"loglift\": [30.0, 29.0, 28.0, 27.0, 26.0, 25.0, 24.0, 23.0, 22.0, 21.0, 20.0, 19.0, 18.0, 17.0, 16.0, 15.0, 14.0, 13.0, 12.0, 11.0, 10.0, 9.0, 8.0, 7.0, 6.0, 5.0, 4.0, 3.0, 2.0, 1.0, 1.2777, 1.2524, 1.2448, 1.2358, 1.233, 1.2248, 1.222, 1.2173, 1.2083, 1.2075, 1.205, 1.2011, 1.1935, 1.1875, 1.1833, 1.1825, 1.1819, 1.1783, 1.1735, 1.1602, 1.1589, 1.1588, 1.1584, 1.1551, 1.1548, 1.1516, 1.15, 1.1499, 1.1492, 1.1393, 1.124, 0.9874, 1.0624, 0.9918, 1.0942, 0.8454, 1.01, 1.0826, 1.0311, 0.7513, 0.6528, 0.8672, 0.7944, 0.9283, 0.0658, 0.8426, 0.0269, 0.6426, 0.0585, 0.8307, 0.0852, 0.7051, -0.1102, 1.5039, 1.5039, 1.5027, 1.4932, 1.4779, 1.4732, 1.4631, 1.4489, 1.4424, 1.4372, 1.4346, 1.4345, 1.4236, 1.4154, 1.4086, 1.4069, 1.4056, 1.3989, 1.3915, 1.3859, 1.3599, 1.3561, 1.3322, 1.3234, 1.3182, 1.3108, 1.3107, 1.3103, 1.3094, 1.3079, 1.3014, 1.2092, 1.2518, 1.1125, 1.2757, 0.9473, 1.0474, 0.7257, 0.859, 0.9545, 0.4847, 0.7209, 0.6134, 0.8991, 0.5379, 1.5536, 1.538, 1.5287, 1.5077, 1.5002, 1.4981, 1.4894, 1.4498, 1.4498, 1.4497, 1.4496, 1.449, 1.4476, 1.4186, 1.4184, 1.4182, 1.4181, 1.418, 1.4177, 1.3976, 1.3852, 1.3723, 1.3701, 1.3701, 1.3699, 1.3699, 1.3698, 1.3698, 1.3698, 1.3698, 1.3662, 1.3532, 1.3497, 1.3273, 1.2145, 1.2545, 1.1405, 1.0138, 1.0838, 1.0353, 1.1782, 1.0317, 1.2245, 0.7058, 0.7155, 0.8824, 0.1481, 0.8219, 0.7438, 0.6117, 0.0847, 0.4747, 1.5894, 1.5357, 1.5353, 1.5352, 1.5352, 1.5352, 1.5349, 1.5189, 1.5127, 1.5029, 1.4857, 1.4856, 1.4853, 1.4853, 1.4852, 1.4852, 1.4851, 1.485, 1.485, 1.485, 1.4849, 1.4849, 1.456, 1.4528, 1.4445, 1.417, 1.3974, 1.3972, 1.3971, 1.3971, 1.3282, 1.3638, 1.3684, 1.3675, 1.187, 1.1369, 1.1889, 1.2777, 1.1099, 0.7, 1.096, 1.2192, 1.3363, 0.9346, 0.4382, 1.1758, 0.4483, 0.7564, 0.2071, -0.0833, 0.6775, 0.0312, 0.0133, 0.3609, -0.3095, 0.5002, 0.8889, 0.3463, 0.432, 1.913, 1.9077, 1.8992, 1.8242, 1.8231, 1.8114, 1.7887, 1.7886, 1.788, 1.7347, 1.7347, 1.7345, 1.7345, 1.7344, 1.7343, 1.734, 1.734, 1.7335, 1.7335, 1.6925, 1.6917, 1.6756, 1.6564, 1.6392, 1.6389, 1.6388, 1.6385, 1.6385, 1.6384, 1.6384, 1.5693, 1.5512, 1.5431, 1.5689, 1.5951, 1.577, 1.5764, 1.4977, 1.3328, 1.2864, 1.4188, 1.4157, 1.1388, 1.0644, 0.7287, -0.1326, 1.2885, -0.2136, 0.8468, 1.2649]}, \"token.table\": {\"Topic\": [3, 2, 3, 4, 3, 4, 2, 3, 4, 5, 5, 5, 3, 2, 3, 2, 4, 1, 4, 5, 4, 3, 4, 5, 2, 3, 3, 5, 3, 4, 5, 2, 1, 2, 3, 2, 1, 4, 5, 1, 4, 2, 5, 2, 1, 5, 1, 5, 1, 4, 2, 4, 5, 4, 2, 1, 3, 4, 5, 4, 1, 3, 5, 3, 1, 4, 5, 4, 4, 2, 4, 2, 4, 5, 1, 3, 3, 2, 3, 2, 5, 2, 1, 4, 2, 1, 4, 1, 4, 5, 2, 3, 1, 2, 3, 4, 5, 1, 4, 5, 1, 3, 5, 1, 1, 4, 3, 1, 3, 5, 3, 1, 1, 1, 3, 5, 4, 2, 3, 5, 1, 1, 1, 4, 2, 3, 5, 1, 1, 2, 3, 4, 5, 4, 3, 1, 2, 3, 4, 5, 1, 3, 4, 5, 1, 5, 1, 5, 5, 4, 2, 3, 3, 1, 4, 5, 1, 2, 3, 5, 2, 5, 3, 3, 4, 5, 1, 2, 5, 1, 4, 4, 3, 3, 2, 1, 2, 3, 4, 5, 1, 4, 5, 4, 1, 3, 5, 1, 2, 3, 4, 5, 5, 3, 5, 5, 5, 5, 2, 1, 3, 4, 5, 1, 2, 3, 3, 2, 3, 4, 1, 3, 1, 4, 5, 1, 1, 3, 1, 2, 3, 4, 5, 1, 2, 3, 4, 5, 4, 1, 4, 5, 1, 2, 4, 1, 5, 3, 5, 4, 5, 5, 1, 2, 3, 1, 1, 4, 5, 1, 5, 4, 1, 2, 3, 4, 1, 4, 5, 4, 5, 2, 3, 2, 2, 1, 1, 2, 3, 4, 5, 5, 1, 1, 4, 4, 1, 2, 3, 2, 5, 5, 3, 1, 5, 1, 2, 3, 4, 5, 2, 4, 1, 3, 4, 3, 1, 4, 5, 1, 3, 5, 1, 3, 5, 2, 1, 4, 1, 3, 2, 4, 1, 1, 3, 1, 3, 3, 3, 1, 5, 2, 3, 2, 5, 4, 5, 4, 1, 3, 5, 1, 4, 5, 5, 4, 5, 1, 4, 5, 1, 2, 3, 5, 1, 4, 5, 1, 4, 1, 4, 1, 5, 4, 2, 3, 2, 5, 1, 2, 3, 4, 5, 2, 3, 1, 1, 1, 3, 2, 3, 2, 3, 4, 5, 5, 1, 4, 5, 1, 3, 5, 1, 4, 5, 5, 2, 1, 2, 3, 4, 5, 3, 3, 1, 3, 5, 1, 4, 5, 2, 1, 3, 5, 1, 4, 1, 1, 3, 4, 5, 1, 3, 1, 3, 1, 2], \"Freq\": [0.6871985398241813, 0.6650483810794264, 0.7655887190669645, 0.15311774381339288, 0.8266960375873558, 0.13778267293122595, 0.45093879732525954, 0.41336056421482126, 0.11273469933131489, 0.8969122999461943, 0.7433109319470486, 0.8969796175189695, 0.9163431406226022, 0.8276392810095526, 0.8247200840821246, 0.9317866815671472, 0.6991578526216624, 0.08806876273372805, 0.7926188646035525, 0.08806876273372805, 0.6991473482281797, 0.9163576059774016, 0.8010954388527536, 0.49108932335808425, 0.6651469216890296, 0.6871698014162323, 0.3618799043057923, 0.5428198564586885, 0.7947476153435816, 0.16731528744075402, 0.49110865028946565, 0.6649420316241936, 0.1357262462176755, 0.1357262462176755, 0.6786312310883775, 0.8812916439955965, 0.9174056342504143, 0.045870281712520715, 0.045870281712520715, 0.47163567312501875, 0.47163567312501875, 0.9458684188658044, 0.4910523647496524, 0.8266708004042298, 0.8693743881502334, 0.14489573135837222, 0.24194224799547756, 0.7258267439864327, 0.9163641799457997, 0.8400171432284339, 0.8813552989846224, 0.2966550344870755, 0.6921950804698428, 0.6991387113580121, 0.9458380784034774, 0.28031383832146695, 0.5606276766429339, 0.04004483404592385, 0.12013450213777153, 0.6991447609253569, 0.15304409538474964, 0.6121763815389986, 0.15304409538474964, 0.9163962232376556, 0.1272740616098664, 0.7636443696591984, 0.1272740616098664, 0.6986951000246269, 0.9303841088050019, 0.3059970959505389, 0.6119941919010778, 0.9455711330783505, 0.8399528365505312, 0.7432334245343021, 0.7549030005632682, 0.21568657158950522, 0.9163387357493973, 0.5453982229561933, 0.4195370945816872, 0.8837268204848002, 0.7433281611468386, 0.9663987029340043, 0.6599304795471075, 0.32996523977355374, 0.9455871790262521, 0.8567096352689557, 0.6991145115524513, 0.573939744809502, 0.382626496539668, 0.095656624134917, 0.7319430701065164, 0.1996208373017772, 0.2839701490801504, 0.1419850745400752, 0.354962686350188, 0.1419850745400752, 0.0709925372700376, 0.3199293644623884, 0.533215607437314, 0.1066431214874628, 0.710031941757696, 0.10143313453681371, 0.10143313453681371, 0.7729735389154007, 0.22942802096409454, 0.6882840628922836, 0.9162893729439497, 0.06550087381816781, 0.8515113596361815, 0.06550087381816781, 0.6872096365998414, 0.916086279957427, 0.7732407802746485, 0.3509681393386629, 0.2339787595591086, 0.3509681393386629, 0.6991394787491149, 0.48710961495163496, 0.29226576897098094, 0.09742192299032698, 0.8950627179615178, 0.9291513138039582, 0.7730221940168956, 0.9303727574031946, 0.5405798480131184, 0.36038656534207897, 0.09009664133551974, 0.8573632082656568, 0.5581925943371334, 0.10148956260675154, 0.2029791252135031, 0.10148956260675154, 0.05074478130337577, 0.6991601472635237, 0.6871680723061655, 0.25496491802884363, 0.1699766120192291, 0.1699766120192291, 0.25496491802884363, 0.08498830600961454, 0.4164322652566295, 0.10410806631415738, 0.4164322652566295, 0.10410806631415738, 0.5038007174639981, 0.37785053809799857, 0.7805797926319158, 0.1300966321053193, 0.7432968401470036, 0.9303715525304961, 0.3861819127309143, 0.5792728690963714, 0.6871676492140849, 0.10946601232097353, 0.07297734154731568, 0.8392394277941303, 0.6152473256329256, 0.1757849501808359, 0.08789247509041795, 0.08789247509041795, 0.8816834762392711, 0.9325621306457523, 0.9516648156178507, 0.6238071584115352, 0.1559517896028838, 0.1559517896028838, 0.17694237702797352, 0.35388475405594705, 0.5308271310839205, 0.8528695861772522, 0.6991503841100406, 0.8399743087502571, 0.8246982156628642, 0.8247115122461954, 0.7963022690506979, 0.13088282237157842, 0.13088282237157842, 0.45808987830052444, 0.13088282237157842, 0.06544141118578921, 0.8899956653065467, 0.04944420362814149, 0.04944420362814149, 0.8399849534779282, 0.8567686872803764, 0.2478280439097687, 0.7434841317293062, 0.9906216472326257, 0.3383419519136366, 0.6090155134445459, 0.7100283384955841, 0.23667611283186138, 0.7432794592878227, 0.245591745395633, 0.6139793634890824, 0.49110877390343366, 0.8834473869726409, 0.7502630181962318, 0.665163183571133, 0.2102335661563321, 0.2102335661563321, 0.28031142154177613, 0.28031142154177613, 0.8565814043748893, 0.9663079717924049, 0.6872156503659717, 0.9162782048216018, 0.7260401301757239, 0.2376131335120551, 0.03960218891867585, 0.6555817529448003, 0.32779087647240013, 0.6936352800703602, 0.13872705601407204, 0.06936352800703602, 0.7730351943807787, 0.8568871227407805, 0.8247006077473343, 0.09755501707685302, 0.6503667805123535, 0.09755501707685302, 0.16259169512808838, 0.7433649270129948, 0.17820335805990845, 0.17820335805990845, 0.29700559676651406, 0.29700559676651406, 0.05940111935330281, 0.8399766590662959, 0.6996648427267987, 0.1646270218180703, 0.08231351090903515, 0.19533707831349148, 0.19533707831349148, 0.5860112349404745, 0.7942347295221521, 0.1323724549203587, 0.6960015127144782, 0.17400037817861955, 0.7099579408139451, 0.23665264693798171, 0.7433644713700216, 0.2460202171764174, 0.5740471734116406, 0.0820067390588058, 0.772990629023317, 0.20747453466989743, 0.1383163564465983, 0.6224236040096923, 0.39105489377458114, 0.6517581562909686, 0.6987408043668888, 0.04901487280838417, 0.8332528377425309, 0.09802974561676835, 0.6991701606749309, 0.1746937391359917, 0.6987749565439668, 0.1746937391359917, 0.43847445774058585, 0.43847445774058585, 0.954443135191295, 0.02272483655217369, 0.9639788447253728, 0.9718557664049702, 0.7733703424049263, 0.5157832789158187, 0.08596387981930312, 0.12894581972895466, 0.21490969954825778, 0.04298193990965156, 0.49106640815772845, 0.7733278403449013, 0.3614262708702415, 0.6324959740229227, 0.6991271598967046, 0.12745623028060832, 0.44609680598212914, 0.44609680598212914, 0.7470298865769591, 0.14940597731539185, 0.7501364538953127, 0.8246093890456802, 0.24199960852695898, 0.725998825580877, 0.23285174794437669, 0.23285174794437669, 0.11642587397218834, 0.23285174794437669, 0.34927762191656503, 0.8868237814865956, 0.14780396358109926, 0.10144491557535593, 0.7608368668151695, 0.10144491557535593, 0.6872300665948855, 0.6287388119791427, 0.34580634658852855, 0.743303855711706, 0.5781268813100018, 0.3303582178914296, 0.0825895544728574, 0.2555961155295926, 0.596390936235716, 0.08519870517653086, 0.800104065354143, 0.9159356942512996, 0.9303270033352019, 0.8570562230503929, 0.9162143652943633, 0.925665926096297, 0.8396097554930333, 0.9605531764808855, 0.1363001477582855, 0.817800886549713, 0.9323711915383787, 0.049072167975704135, 0.9818410873533006, 0.9621117626411565, 0.18377817322499734, 0.7351126928999894, 0.08584112010785445, 0.8584112010785445, 0.9606902582201411, 0.743352022662835, 0.24659333051940455, 0.7397799915582136, 0.6991488176430106, 0.7182359176375626, 0.23941197254585417, 0.11970598627292708, 0.2810955511000321, 0.6676019338625762, 0.03513694388750401, 0.9628480123644266, 0.6991242461354932, 0.8970264169736387, 0.28708824464110577, 0.5921195045722807, 0.12560110703048377, 0.3537474586161889, 0.14149898344647555, 0.3537474586161889, 0.07074949172323777, 0.3154246554566142, 0.525707759094357, 0.10514155181887139, 0.19707837323089633, 0.7883134929235853, 0.1807296543379708, 0.8434050535771972, 0.8180910885363516, 0.1636182177072703, 0.8400005988178985, 0.489176618510598, 0.489176618510598, 0.7965187502887742, 0.7433247044476455, 0.26216172049373093, 0.10486468819749238, 0.026216172049373095, 0.550539613036835, 0.026216172049373095, 0.8278406409999912, 0.08278406409999912, 0.9169671817480438, 0.7728098760966521, 0.7729402805565132, 0.8246056799857132, 0.3086678323450137, 0.6790692311590302, 0.37077022996342174, 0.18538511498171087, 0.2780776724725663, 0.18538511498171087, 0.49108263460977536, 0.13405206635719633, 0.13405206635719633, 0.6702603317859817, 0.20574811735971008, 0.20574811735971008, 0.6172443520791302, 0.20647922843802669, 0.20647922843802669, 0.61943768531408, 0.491097663605153, 0.953291966507526, 0.25256569735628476, 0.336754263141713, 0.08418856578542824, 0.29465998024899887, 0.04209428289271412, 0.6871632503663018, 0.916308786716345, 0.0370943978259832, 0.2225663869558992, 0.741887956519664, 0.3552766730517138, 0.14211066922068552, 0.49738734227239934, 0.6650145403381851, 0.12630203029100312, 0.6315101514550157, 0.12630203029100312, 0.1388404664310612, 0.8330427985863673, 0.9161083904006577, 0.1394679639492774, 0.1394679639492774, 0.1394679639492774, 0.6276058377717483, 0.8083867455476513, 0.16167734910953027, 0.17004285165763805, 0.6801714066305522, 0.7734024870367175, 0.6651294304861006], \"Term\": [\"accuracy\", \"activation\", \"ad\", \"ad\", \"age\", \"age\", \"algorithm\", \"algorithm\", \"algorithm\", \"allied\", \"ally\", \"andromeda\", \"antiquity\", \"application\", \"archaic\", \"artificial\", \"asteroid\", \"astronomer\", \"astronomer\", \"astronomer\", \"astronomy\", \"athens\", \"au\", \"austria\", \"autoencoders\", \"available\", \"battle\", \"battle\", \"bc\", \"bc\", \"bce\", \"belief\", \"bias\", \"bias\", \"bias\", \"biological\", \"black\", \"black\", \"black\", \"body\", \"body\", \"boltzmann\", \"bombing\", \"brain\", \"britain\", \"britain\", \"british\", \"british\", \"brown\", \"calendar\", \"cap\", \"catalogue\", \"catalogue\", \"celestial\", \"cell\", \"century\", \"century\", \"century\", \"century\", \"chinese\", \"city\", \"city\", \"city\", \"classical\", \"cloud\", \"cloud\", \"cloud\", \"cognitive\", \"comet\", \"computer\", \"computer\", \"connected\", \"constellation\", \"country\", \"crisis\", \"crisis\", \"culture\", \"data\", \"data\", \"dataset\", \"date\", \"deep\", \"definition\", \"definition\", \"depth\", \"deuterium\", \"disc\", \"dwarf\", \"dwarf\", \"dwarf\", \"e\", \"e\", \"early\", \"early\", \"early\", \"early\", \"early\", \"earth\", \"earth\", \"earth\", \"economic\", \"economic\", \"economic\", \"einstein\", \"element\", \"element\", \"emperor\", \"empire\", \"empire\", \"empire\", \"entire\", \"escape\", \"estate\", \"europe\", \"europe\", \"europe\", \"evolution\", \"example\", \"example\", \"example\", \"exoplanet\", \"exoplanets\", \"extrasolar\", \"faster\", \"feature\", \"feature\", \"feature\", \"financial\", \"first\", \"first\", \"first\", \"first\", \"first\", \"fixed\", \"flexible\", \"form\", \"form\", \"form\", \"form\", \"form\", \"formed\", \"formed\", \"formed\", \"formed\", \"france\", \"france\", \"french\", \"french\", \"front\", \"frost\", \"function\", \"function\", \"g\", \"galaxy\", \"galaxy\", \"galaxy\", \"general\", \"general\", \"general\", \"general\", \"generative\", \"germany\", \"greece\", \"greek\", \"greek\", \"greek\", \"group\", \"group\", \"group\", \"growth\", \"heavier\", \"helium\", \"hellenistic\", \"herodotus\", \"hidden\", \"history\", \"history\", \"history\", \"history\", \"history\", \"hole\", \"hole\", \"hole\", \"hydrogen\", \"iau\", \"ii\", \"ii\", \"industrial\", \"input\", \"input\", \"interstellar\", \"interstellar\", \"invaded\", \"invasion\", \"invasion\", \"island\", \"japan\", \"japanese\", \"k\", \"known\", \"known\", \"known\", \"known\", \"laplace\", \"layer\", \"league\", \"learned\", \"learning\", \"learning\", \"learning\", \"led\", \"led\", \"light\", \"light\", \"light\", \"limiting\", \"louis\", \"macedon\", \"machine\", \"machine\", \"machine\", \"machine\", \"manchuria\", \"many\", \"many\", \"many\", \"many\", \"many\", \"mar\", \"mass\", \"mass\", \"mass\", \"material\", \"material\", \"material\", \"matter\", \"matter\", \"mediterranean\", \"mediterranean\", \"medium\", \"medium\", \"messier\", \"method\", \"method\", \"method\", \"michell\", \"milky\", \"milky\", \"milky\", \"million\", \"million\", \"ml\", \"model\", \"model\", \"model\", \"molecular\", \"name\", \"name\", \"name\", \"nebula\", \"nebula\", \"network\", \"network\", \"neural\", \"neuron\", \"nobility\", \"object\", \"object\", \"object\", \"object\", \"object\", \"occupied\", \"official\", \"orbit\", \"orbit\", \"outer\", \"output\", \"output\", \"output\", \"p\", \"p\", \"pacific\", \"parameter\", \"parsec\", \"parsec\", \"part\", \"part\", \"part\", \"part\", \"part\", \"pattern\", \"pattern\", \"period\", \"period\", \"period\", \"persian\", \"planet\", \"planet\", \"poland\", \"political\", \"political\", \"political\", \"power\", \"power\", \"power\", \"processing\", \"production\", \"protoplanetary\", \"public\", \"r\", \"recognition\", \"reinforcement\", \"relativity\", \"republic\", \"republic\", \"revolution\", \"revolution\", \"roman\", \"rome\", \"september\", \"september\", \"set\", \"set\", \"signal\", \"sino\", \"sky\", \"sky\", \"sn\", \"social\", \"social\", \"social\", \"solar\", \"solar\", \"solar\", \"soviet\", \"sphere\", \"spiral\", \"star\", \"star\", \"star\", \"state\", \"state\", \"state\", \"state\", \"stellar\", \"stellar\", \"stellar\", \"study\", \"study\", \"sun\", \"sun\", \"supermassive\", \"supermassive\", \"supernova\", \"supervised\", \"supervised\", \"supervision\", \"surrender\", \"system\", \"system\", \"system\", \"system\", \"system\", \"task\", \"task\", \"tax\", \"textile\", \"theory\", \"tradeoff\", \"training\", \"training\", \"two\", \"two\", \"two\", \"two\", \"unconditional\", \"union\", \"union\", \"union\", \"united\", \"united\", \"united\", \"universe\", \"universe\", \"universe\", \"unresolved\", \"unsupervised\", \"used\", \"used\", \"used\", \"used\", \"used\", \"user\", \"variance\", \"war\", \"war\", \"war\", \"way\", \"way\", \"way\", \"weight\", \"western\", \"western\", \"western\", \"within\", \"within\", \"working\", \"world\", \"world\", \"world\", \"world\", \"would\", \"would\", \"x\", \"x\", \"xvi\", \"z\"]}, \"R\": 30, \"lambda.step\": 0.01, \"plot.opts\": {\"xlab\": \"PC1\", \"ylab\": \"PC2\"}, \"topic.order\": [3, 2, 1, 5, 4]};\n",
       "\n",
       "function LDAvis_load_lib(url, callback){\n",
       "  var s = document.createElement('script');\n",
       "  s.src = url;\n",
       "  s.async = true;\n",
       "  s.onreadystatechange = s.onload = callback;\n",
       "  s.onerror = function(){console.warn(\"failed to load library \" + url);};\n",
       "  document.getElementsByTagName(\"head\")[0].appendChild(s);\n",
       "}\n",
       "\n",
       "if(typeof(LDAvis) !== \"undefined\"){\n",
       "   // already loaded: just create the visualization\n",
       "   !function(LDAvis){\n",
       "       new LDAvis(\"#\" + \"ldavis_el814823626037753129584174150\", ldavis_el814823626037753129584174150_data);\n",
       "   }(LDAvis);\n",
       "}else if(typeof define === \"function\" && define.amd){\n",
       "   // require.js is available: use it to load d3/LDAvis\n",
       "   require.config({paths: {d3: \"https://d3js.org/d3.v5\"}});\n",
       "   require([\"d3\"], function(d3){\n",
       "      window.d3 = d3;\n",
       "      LDAvis_load_lib(\"https://cdn.jsdelivr.net/gh/bmabey/pyLDAvis@3.4.0/pyLDAvis/js/ldavis.v3.0.0.js\", function(){\n",
       "        new LDAvis(\"#\" + \"ldavis_el814823626037753129584174150\", ldavis_el814823626037753129584174150_data);\n",
       "      });\n",
       "    });\n",
       "}else{\n",
       "    // require.js not available: dynamically load d3 & LDAvis\n",
       "    LDAvis_load_lib(\"https://d3js.org/d3.v5.js\", function(){\n",
       "         LDAvis_load_lib(\"https://cdn.jsdelivr.net/gh/bmabey/pyLDAvis@3.4.0/pyLDAvis/js/ldavis.v3.0.0.js\", function(){\n",
       "                 new LDAvis(\"#\" + \"ldavis_el814823626037753129584174150\", ldavis_el814823626037753129584174150_data);\n",
       "            })\n",
       "         });\n",
       "}\n",
       "</script>"
      ]
     },
     "execution_count": 22,
     "metadata": {},
     "output_type": "execute_result"
    }
   ],
   "execution_count": 22
  },
  {
   "metadata": {},
   "cell_type": "code",
   "outputs": [],
   "execution_count": null,
   "source": "",
   "id": "ddb18876166480c4"
  }
 ],
 "metadata": {
  "kernelspec": {
   "display_name": "Python 3",
   "language": "python",
   "name": "python3"
  },
  "language_info": {
   "codemirror_mode": {
    "name": "ipython",
    "version": 2
   },
   "file_extension": ".py",
   "mimetype": "text/x-python",
   "name": "python",
   "nbconvert_exporter": "python",
   "pygments_lexer": "ipython2",
   "version": "2.7.6"
  }
 },
 "nbformat": 4,
 "nbformat_minor": 5
}
