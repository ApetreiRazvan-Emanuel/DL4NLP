{
 "cells": [
  {
   "metadata": {
    "ExecuteTime": {
     "end_time": "2025-10-15T05:59:28.651975Z",
     "start_time": "2025-10-15T05:59:28.650093Z"
    }
   },
   "cell_type": "code",
   "source": [
    "from datasets import load_dataset\n",
    "from transformers import BertTokenizer, BertForQuestionAnswering\n",
    "import torch\n",
    "import requests\n",
    "import textwrap"
   ],
   "id": "5f346e4638ed4b89",
   "outputs": [],
   "execution_count": 9
  },
  {
   "metadata": {
    "ExecuteTime": {
     "end_time": "2025-10-15T05:57:06.004493Z",
     "start_time": "2025-10-15T05:57:02.462159Z"
    }
   },
   "cell_type": "code",
   "source": [
    "dataset = load_dataset(\"squad\")\n",
    "print(dataset)\n",
    "print(\"\\nColumns:\", dataset[\"train\"].column_names)\n",
    "print(\"\\nExample from train split:\\n\")\n",
    "print(dataset[\"train\"][0])"
   ],
   "id": "2efb437d75c5f40a",
   "outputs": [
    {
     "name": "stdout",
     "output_type": "stream",
     "text": [
      "DatasetDict({\n",
      "    train: Dataset({\n",
      "        features: ['id', 'title', 'context', 'question', 'answers'],\n",
      "        num_rows: 87599\n",
      "    })\n",
      "    validation: Dataset({\n",
      "        features: ['id', 'title', 'context', 'question', 'answers'],\n",
      "        num_rows: 10570\n",
      "    })\n",
      "})\n",
      "\n",
      "Columns: ['id', 'title', 'context', 'question', 'answers']\n",
      "\n",
      "Example from train split:\n",
      "\n",
      "{'id': '5733be284776f41900661182', 'title': 'University_of_Notre_Dame', 'context': 'Architecturally, the school has a Catholic character. Atop the Main Building\\'s gold dome is a golden statue of the Virgin Mary. Immediately in front of the Main Building and facing it, is a copper statue of Christ with arms upraised with the legend \"Venite Ad Me Omnes\". Next to the Main Building is the Basilica of the Sacred Heart. Immediately behind the basilica is the Grotto, a Marian place of prayer and reflection. It is a replica of the grotto at Lourdes, France where the Virgin Mary reputedly appeared to Saint Bernadette Soubirous in 1858. At the end of the main drive (and in a direct line that connects through 3 statues and the Gold Dome), is a simple, modern stone statue of Mary.', 'question': 'To whom did the Virgin Mary allegedly appear in 1858 in Lourdes France?', 'answers': {'text': ['Saint Bernadette Soubirous'], 'answer_start': [515]}}\n"
     ]
    }
   ],
   "execution_count": 4
  },
  {
   "metadata": {
    "ExecuteTime": {
     "end_time": "2025-10-15T05:57:31.073484Z",
     "start_time": "2025-10-15T05:57:26.934926Z"
    }
   },
   "cell_type": "code",
   "source": [
    "def curate_dataset(split):\n",
    "    curated = []\n",
    "    for ex in dataset[split]:\n",
    "        curated.append({\n",
    "            \"context\": ex[\"context\"].strip(),\n",
    "            \"question\": ex[\"question\"].strip(),\n",
    "            \"answers\": ex[\"answers\"]\n",
    "        })\n",
    "    return curated\n",
    "\n",
    "train_data = curate_dataset(\"train\")\n",
    "val_data = curate_dataset(\"validation\")\n",
    "\n",
    "print(f\"Train examples: {len(train_data)}, Validation examples: {len(val_data)}\")\n",
    "print(\"Example:\")\n",
    "print(val_data[0])"
   ],
   "id": "63113b19ae3ad78c",
   "outputs": [
    {
     "name": "stdout",
     "output_type": "stream",
     "text": [
      "Train examples: 87599, Validation examples: 10570\n",
      "Example:\n",
      "{'context': 'Super Bowl 50 was an American football game to determine the champion of the National Football League (NFL) for the 2015 season. The American Football Conference (AFC) champion Denver Broncos defeated the National Football Conference (NFC) champion Carolina Panthers 24–10 to earn their third Super Bowl title. The game was played on February 7, 2016, at Levi\\'s Stadium in the San Francisco Bay Area at Santa Clara, California. As this was the 50th Super Bowl, the league emphasized the \"golden anniversary\" with various gold-themed initiatives, as well as temporarily suspending the tradition of naming each Super Bowl game with Roman numerals (under which the game would have been known as \"Super Bowl L\"), so that the logo could prominently feature the Arabic numerals 50.', 'question': 'Which NFL team represented the AFC at Super Bowl 50?', 'answers': {'text': ['Denver Broncos', 'Denver Broncos', 'Denver Broncos'], 'answer_start': [177, 177, 177]}}\n"
     ]
    }
   ],
   "execution_count": 5
  },
  {
   "metadata": {
    "ExecuteTime": {
     "end_time": "2025-10-15T06:02:17.424153Z",
     "start_time": "2025-10-15T05:59:31.417557Z"
    }
   },
   "cell_type": "code",
   "source": [
    "tokenizer = BertTokenizer.from_pretrained(\"bert-large-uncased-whole-word-masking-finetuned-squad\")\n",
    "model = BertForQuestionAnswering.from_pretrained(\"bert-large-uncased-whole-word-masking-finetuned-squad\")\n",
    "model.eval()\n",
    "\n",
    "device = torch.device(\"cuda\" if torch.cuda.is_available() else \"cpu\")\n",
    "model.to(device)"
   ],
   "id": "6b3de2f9a9bf884b",
   "outputs": [
    {
     "name": "stderr",
     "output_type": "stream",
     "text": [
      "C:\\Users\\Alexandru\\Desktop\\DL4NLP\\.venv\\Lib\\site-packages\\huggingface_hub\\file_download.py:143: UserWarning: `huggingface_hub` cache-system uses symlinks by default to efficiently store duplicated files but your machine does not support them in C:\\Users\\Alexandru\\.cache\\huggingface\\hub\\models--bert-large-uncased-whole-word-masking-finetuned-squad. Caching files will still work but in a degraded version that might require more space on your disk. This warning can be disabled by setting the `HF_HUB_DISABLE_SYMLINKS_WARNING` environment variable. For more details, see https://huggingface.co/docs/huggingface_hub/how-to-cache#limitations.\n",
      "To support symlinks on Windows, you either need to activate Developer Mode or to run Python as an administrator. In order to activate developer mode, see this article: https://docs.microsoft.com/en-us/windows/apps/get-started/enable-your-device-for-development\n",
      "  warnings.warn(message)\n",
      "Xet Storage is enabled for this repo, but the 'hf_xet' package is not installed. Falling back to regular HTTP download. For better performance, install the package with: `pip install huggingface_hub[hf_xet]` or `pip install hf_xet`\n",
      "Some weights of the model checkpoint at bert-large-uncased-whole-word-masking-finetuned-squad were not used when initializing BertForQuestionAnswering: ['bert.pooler.dense.bias', 'bert.pooler.dense.weight']\n",
      "- This IS expected if you are initializing BertForQuestionAnswering from the checkpoint of a model trained on another task or with another architecture (e.g. initializing a BertForSequenceClassification model from a BertForPreTraining model).\n",
      "- This IS NOT expected if you are initializing BertForQuestionAnswering from the checkpoint of a model that you expect to be exactly identical (initializing a BertForSequenceClassification model from a BertForSequenceClassification model).\n"
     ]
    },
    {
     "data": {
      "text/plain": [
       "BertForQuestionAnswering(\n",
       "  (bert): BertModel(\n",
       "    (embeddings): BertEmbeddings(\n",
       "      (word_embeddings): Embedding(30522, 1024, padding_idx=0)\n",
       "      (position_embeddings): Embedding(512, 1024)\n",
       "      (token_type_embeddings): Embedding(2, 1024)\n",
       "      (LayerNorm): LayerNorm((1024,), eps=1e-12, elementwise_affine=True)\n",
       "      (dropout): Dropout(p=0.1, inplace=False)\n",
       "    )\n",
       "    (encoder): BertEncoder(\n",
       "      (layer): ModuleList(\n",
       "        (0-23): 24 x BertLayer(\n",
       "          (attention): BertAttention(\n",
       "            (self): BertSdpaSelfAttention(\n",
       "              (query): Linear(in_features=1024, out_features=1024, bias=True)\n",
       "              (key): Linear(in_features=1024, out_features=1024, bias=True)\n",
       "              (value): Linear(in_features=1024, out_features=1024, bias=True)\n",
       "              (dropout): Dropout(p=0.1, inplace=False)\n",
       "            )\n",
       "            (output): BertSelfOutput(\n",
       "              (dense): Linear(in_features=1024, out_features=1024, bias=True)\n",
       "              (LayerNorm): LayerNorm((1024,), eps=1e-12, elementwise_affine=True)\n",
       "              (dropout): Dropout(p=0.1, inplace=False)\n",
       "            )\n",
       "          )\n",
       "          (intermediate): BertIntermediate(\n",
       "            (dense): Linear(in_features=1024, out_features=4096, bias=True)\n",
       "            (intermediate_act_fn): GELUActivation()\n",
       "          )\n",
       "          (output): BertOutput(\n",
       "            (dense): Linear(in_features=4096, out_features=1024, bias=True)\n",
       "            (LayerNorm): LayerNorm((1024,), eps=1e-12, elementwise_affine=True)\n",
       "            (dropout): Dropout(p=0.1, inplace=False)\n",
       "          )\n",
       "        )\n",
       "      )\n",
       "    )\n",
       "  )\n",
       "  (qa_outputs): Linear(in_features=1024, out_features=2, bias=True)\n",
       ")"
      ]
     },
     "execution_count": 10,
     "metadata": {},
     "output_type": "execute_result"
    }
   ],
   "execution_count": 10
  },
  {
   "metadata": {
    "ExecuteTime": {
     "end_time": "2025-10-15T06:04:11.347327Z",
     "start_time": "2025-10-15T06:04:11.345123Z"
    }
   },
   "cell_type": "code",
   "source": [
    "def reconstruct_text(tokens):\n",
    "    output = []\n",
    "    for tok in tokens:\n",
    "        if tok.startswith(\"##\") and output:\n",
    "            output[-1] += tok[2:]\n",
    "        else:\n",
    "            output.append(tok)\n",
    "    return \" \".join(output)"
   ],
   "id": "c2cc935cfa4e1ba0",
   "outputs": [],
   "execution_count": 11
  },
  {
   "metadata": {
    "ExecuteTime": {
     "end_time": "2025-10-15T06:04:13.677535Z",
     "start_time": "2025-10-15T06:04:13.674548Z"
    }
   },
   "cell_type": "code",
   "source": [
    "@torch.no_grad()\n",
    "def get_answer(question, context):\n",
    "    input_ids = tokenizer.encode(question, context)\n",
    "    tokens = tokenizer.convert_ids_to_tokens(input_ids)\n",
    "\n",
    "    sep_index = input_ids.index(tokenizer.sep_token_id)\n",
    "    num_seg_a = sep_index + 1\n",
    "    num_seg_b = len(input_ids) - num_seg_a\n",
    "    segment_ids = [0] * num_seg_a + [1] * num_seg_b\n",
    "\n",
    "    start_scores, end_scores = model(\n",
    "        torch.tensor([input_ids]).to(device),\n",
    "        token_type_ids=torch.tensor([segment_ids]).to(device),\n",
    "        return_dict=False\n",
    "    )\n",
    "\n",
    "    start_index = torch.argmax(start_scores)\n",
    "    end_index = torch.argmax(end_scores)\n",
    "\n",
    "    answer_tokens = tokens[start_index:end_index + 1]\n",
    "    answer = reconstruct_text(answer_tokens)\n",
    "\n",
    "    return answer.strip()"
   ],
   "id": "54782987e7bebd4e",
   "outputs": [],
   "execution_count": 12
  },
  {
   "metadata": {
    "ExecuteTime": {
     "end_time": "2025-10-15T06:04:17.061608Z",
     "start_time": "2025-10-15T06:04:15.848817Z"
    }
   },
   "cell_type": "code",
   "source": [
    "for sample in val_data[:3]:\n",
    "    question = sample[\"question\"]\n",
    "    context = sample[\"context\"]\n",
    "    predicted = get_answer(question, context)\n",
    "\n",
    "    print(\"\\n\" + \"-\"*100)\n",
    "    print(\"Question:\", question)\n",
    "    print(\"Predicted answer:\", predicted)\n",
    "    print(\"True answers:\", sample[\"answers\"][\"text\"])"
   ],
   "id": "ee60f8cd2100c19c",
   "outputs": [
    {
     "name": "stdout",
     "output_type": "stream",
     "text": [
      "\n",
      "----------------------------------------------------------------------------------------------------\n",
      "Question: Which NFL team represented the AFC at Super Bowl 50?\n",
      "Predicted answer: denver broncos\n",
      "True answers: ['Denver Broncos', 'Denver Broncos', 'Denver Broncos']\n",
      "\n",
      "----------------------------------------------------------------------------------------------------\n",
      "Question: Which NFL team represented the NFC at Super Bowl 50?\n",
      "Predicted answer: carolina panthers\n",
      "True answers: ['Carolina Panthers', 'Carolina Panthers', 'Carolina Panthers']\n",
      "\n",
      "----------------------------------------------------------------------------------------------------\n",
      "Question: Where did Super Bowl 50 take place?\n",
      "Predicted answer: levi ' s stadium in the san francisco bay area at santa clara , california\n",
      "True answers: ['Santa Clara, California', \"Levi's Stadium\", \"Levi's Stadium in the San Francisco Bay Area at Santa Clara, California.\"]\n"
     ]
    }
   ],
   "execution_count": 13
  },
  {
   "metadata": {
    "ExecuteTime": {
     "end_time": "2025-10-15T06:04:31.642275Z",
     "start_time": "2025-10-15T06:04:31.639224Z"
    }
   },
   "cell_type": "code",
   "source": [
    "def translate_libre(text):\n",
    "    try:\n",
    "        r = requests.post(\n",
    "            \"https://libretranslate.com/translate\",\n",
    "            data={\"q\": text, \"source\": \"en\", \"target\": \"ro\", \"format\": \"text\"},\n",
    "            timeout=10\n",
    "        )\n",
    "        if r.ok:\n",
    "            return r.json().get(\"translatedText\")\n",
    "    except Exception:\n",
    "        pass\n",
    "    return None\n",
    "\n",
    "def translate_mymemory(text):\n",
    "    try:\n",
    "        r = requests.get(\n",
    "            \"https://api.mymemory.translated.net/get\",\n",
    "            params={\"q\": text, \"langpair\": \"en|ro\"},\n",
    "            timeout=10\n",
    "        )\n",
    "        if r.ok:\n",
    "            return r.json().get(\"responseData\", {}).get(\"translatedText\")\n",
    "    except Exception:\n",
    "        pass\n",
    "    return None\n",
    "\n",
    "def translate_to_ro(text):\n",
    "    if not text.strip():\n",
    "        return text\n",
    "    t = translate_libre(text)\n",
    "    if t:\n",
    "        return t\n",
    "    t = translate_mymemory(text)\n",
    "    if t:\n",
    "        return t\n",
    "    return text\n"
   ],
   "id": "35a5990d85ccc5e1",
   "outputs": [],
   "execution_count": 14
  },
  {
   "metadata": {
    "ExecuteTime": {
     "end_time": "2025-10-15T06:05:10.633297Z",
     "start_time": "2025-10-15T06:05:07.591270Z"
    }
   },
   "cell_type": "code",
   "source": [
    "sample = val_data[7]\n",
    "question = sample[\"question\"]\n",
    "context = sample[\"context\"]\n",
    "\n",
    "answer_en = get_answer(question, context)\n",
    "answer_ro = translate_to_ro(answer_en)\n",
    "\n",
    "print(\"Question:\", question)\n",
    "print(\"Answer (EN):\", answer_en)\n",
    "print(\"Answer (RO):\", answer_ro)"
   ],
   "id": "cee4be18e3aa9e11",
   "outputs": [
    {
     "name": "stdout",
     "output_type": "stream",
     "text": [
      "Question: What is the AFC short for?\n",
      "Answer (EN): american football conference\n",
      "Answer (RO): conferință de fotbal american\n"
     ]
    }
   ],
   "execution_count": 16
  }
 ],
 "metadata": {
  "kernelspec": {
   "display_name": "Python 3",
   "language": "python",
   "name": "python3"
  },
  "language_info": {
   "codemirror_mode": {
    "name": "ipython",
    "version": 2
   },
   "file_extension": ".py",
   "mimetype": "text/x-python",
   "name": "python",
   "nbconvert_exporter": "python",
   "pygments_lexer": "ipython2",
   "version": "2.7.6"
  }
 },
 "nbformat": 4,
 "nbformat_minor": 5
}
